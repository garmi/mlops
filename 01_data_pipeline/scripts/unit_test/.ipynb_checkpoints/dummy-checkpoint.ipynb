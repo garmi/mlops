{
 "cells": [
  {
   "cell_type": "code",
   "execution_count": 1,
   "id": "a241637d-5eaf-4563-b986-44834d6f9f87",
   "metadata": {},
   "outputs": [],
   "source": [
    "import utils"
   ]
  },
  {
   "cell_type": "code",
   "execution_count": 2,
   "id": "ca9cc9cd-9528-4199-ba8e-7e247b66f1cf",
   "metadata": {},
   "outputs": [
    {
     "name": "stdout",
     "output_type": "stream",
     "text": [
      "/home/mlops/01_data_pipeline/scripts/utils.py\n"
     ]
    }
   ],
   "source": [
    "print(utils.__file__)"
   ]
  },
  {
   "cell_type": "code",
   "execution_count": 3,
   "id": "e7ab8d41-5f65-44b3-912a-fcd81585d2de",
   "metadata": {},
   "outputs": [
    {
     "name": "stdout",
     "output_type": "stream",
     "text": [
      "Existing database '/home/mlops/01_data_pipeline/scripts/utils_output.db' removed.\n",
      "Database initialized.\n"
     ]
    }
   ],
   "source": [
    "# Step 1: Build the database\n",
    "utils.build_dbs()"
   ]
  },
  {
   "cell_type": "code",
   "execution_count": 4,
   "id": "ec6a0ae7-1976-4e87-b6d5-c0e75a5deb9e",
   "metadata": {},
   "outputs": [
    {
     "name": "stdout",
     "output_type": "stream",
     "text": [
      "CSV file '/home/mlops/01_data_pipeline/scripts/leadscoring_test.csv' successfully read.\n",
      "Data loaded into 'loaded_data_test_case'.\n"
     ]
    }
   ],
   "source": [
    "# Step 2: Load CSV data into the database\n",
    "utils.load_data_into_db()"
   ]
  },
  {
   "cell_type": "code",
   "execution_count": 5,
   "id": "a4d979da-fe24-4682-8b5a-c8162fbc01e8",
   "metadata": {},
   "outputs": [
    {
     "name": "stdout",
     "output_type": "stream",
     "text": [
      "Columns in loaded_data_test_case: ['created_date', 'city_mapped', 'first_platform_c', 'first_utm_medium_c', 'first_utm_source_c', 'total_leads_droppped', 'referred_lead', '1_on_1_industry_mentorship', 'call_us_button_clicked', 'career_assistance', 'career_coach', 'career_impact', 'careers', 'chat_clicked', 'companies', 'download_button_clicked', 'download_syllabus', 'emi_partner_click', 'emi_plans_clicked', 'fee_component_click', 'hiring_partners', 'homepage_upgrad_support_number_clicked', 'industry_projects_case_studies', 'live_chat_button_clicked', 'payment_amount_toggle_mover', 'placement_support', 'placement_support_banner_tab_clicked', 'program_structure', 'programme_curriculum', 'programme_faculty', 'request_callback_on_instant_customer_support_cta_clicked', 'shorts_entry_click', 'social_referral_click', 'specialisation_tab_clicked', 'specializations', 'specilization_click', 'syllabus', 'syllabus_expand', 'syllabus_submodule_expand', 'tab_career_assistance', 'tab_job_opportunities', 'tab_student_support', 'view_programs_page', 'whatsapp_chat_click', 'app_complete_flag']\n",
      "Unique values in 'city_mapped' before mapping: ['ghazipur' 'murbad' 'mumbai' 'bengaluru' 'ncr' 'patna' 'hyderabad' 'pune'\n",
      " None 'thrissur' 'panipat' 'siliguri' 'chennai' 'rath' 'ahmedabad'\n",
      " 'nagpur' 'ballia' 'amritsar' 'guwahati' 'calicut' 'jaipur' 'chandigarh'\n",
      " 'mysuru' 'dehradun' 'coimbatore' 'akurdi' 'vapi' 'anantapur' 'ludhiana'\n",
      " 'madurai' 'bathinda' 'kakinada' 'kolkata' 'kota' 'mangalagiri'\n",
      " 'gopalganj' 'kochi' 'lucknow' 'kolhapur' 'shahjahanpur' 'rohtak' 'banka']\n",
      "Unique values in 'city_mapped' after mapping: [3. 1. 2.]\n",
      "City tier mapping applied and saved to 'city_tier_mapped_test_case'.\n",
      "map_city_tier() executed successfully. Check the database for the 'city_tier_mapped_test_case' table.\n"
     ]
    }
   ],
   "source": [
    "utils.map_city_tier()\n",
    "\n",
    "print(\"map_city_tier() executed successfully. Check the database for the 'city_tier_mapped_test_case' table.\")"
   ]
  },
  {
   "cell_type": "code",
   "execution_count": 6,
   "id": "fa872298-a0e0-4ab4-bd6a-08bc9ddb647a",
   "metadata": {},
   "outputs": [
    {
     "name": "stdout",
     "output_type": "stream",
     "text": [
      "Categorical variables mapped and saved to 'categorical_variables_mapped_test_case'.\n"
     ]
    }
   ],
   "source": [
    "# Step 4: Map categorical variables\n",
    "utils.map_categorical_vars()"
   ]
  },
  {
   "cell_type": "code",
   "execution_count": 7,
   "id": "14c9569e-d3ba-4f38-8e61-1dafc9391495",
   "metadata": {},
   "outputs": [
    {
     "name": "stdout",
     "output_type": "stream",
     "text": [
      "Error subsetting DataFrame with csv_schema: \"['assistance_interaction', 'career_interaction', 'payment_interaction', 'social_interaction', 'syllabus_interaction'] not in index\"\n"
     ]
    }
   ],
   "source": [
    "# Step 5: Perform interactions mapping\n",
    "utils.interactions_mapping()"
   ]
  },
  {
   "cell_type": "code",
   "execution_count": null,
   "id": "53ae4747-6c81-4996-a91e-cde27150aaf2",
   "metadata": {},
   "outputs": [],
   "source": []
  }
 ],
 "metadata": {
  "kernelspec": {
   "display_name": "Python 3 (ipykernel)",
   "language": "python",
   "name": "python3"
  },
  "language_info": {
   "codemirror_mode": {
    "name": "ipython",
    "version": 3
   },
   "file_extension": ".py",
   "mimetype": "text/x-python",
   "name": "python",
   "nbconvert_exporter": "python",
   "pygments_lexer": "ipython3",
   "version": "3.8.12"
  }
 },
 "nbformat": 4,
 "nbformat_minor": 5
}
