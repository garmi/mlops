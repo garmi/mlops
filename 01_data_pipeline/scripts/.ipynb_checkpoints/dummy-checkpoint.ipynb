{
 "cells": [
  {
   "cell_type": "code",
   "execution_count": 1,
   "id": "a241637d-5eaf-4563-b986-44834d6f9f87",
   "metadata": {},
   "outputs": [],
   "source": [
    "import utils"
   ]
  },
  {
   "cell_type": "code",
   "execution_count": 2,
   "id": "ca9cc9cd-9528-4199-ba8e-7e247b66f1cf",
   "metadata": {},
   "outputs": [
    {
     "name": "stdout",
     "output_type": "stream",
     "text": [
      "/home/mlops/01_data_pipeline/scripts/utils.py\n"
     ]
    }
   ],
   "source": [
    "print(utils.__file__)"
   ]
  },
  {
   "cell_type": "code",
   "execution_count": 3,
   "id": "e7ab8d41-5f65-44b3-912a-fcd81585d2de",
   "metadata": {},
   "outputs": [
    {
     "name": "stdout",
     "output_type": "stream",
     "text": [
      "Existing database '/home/mlops/01_data_pipeline/scripts/utils_output.db' removed.\n",
      "Database initialized and tables dropped if existed.\n"
     ]
    }
   ],
   "source": [
    "# Step 1: Build the database\n",
    "utils.build_dbs()"
   ]
  },
  {
   "cell_type": "code",
   "execution_count": 4,
   "id": "ec6a0ae7-1976-4e87-b6d5-c0e75a5deb9e",
   "metadata": {},
   "outputs": [
    {
     "name": "stdout",
     "output_type": "stream",
     "text": [
      "CSV file '/home/mlops/01_data_pipeline/scripts/leadscoring_test.csv' successfully read.\n",
      "Data loaded into database table 'loaded_data_test_case'.\n"
     ]
    }
   ],
   "source": [
    "# Step 2: Load CSV data into the database\n",
    "utils.load_data_into_db()"
   ]
  },
  {
   "cell_type": "code",
   "execution_count": 5,
   "id": "a4d979da-fe24-4682-8b5a-c8162fbc01e8",
   "metadata": {},
   "outputs": [
    {
     "name": "stdout",
     "output_type": "stream",
     "text": [
      "City tier mapping applied and saved to 'city_tier_mapped_test_case'.\n",
      "map_city_tier() executed successfully. Check the database for the 'city_tier_mapped_test_case' table.\n"
     ]
    }
   ],
   "source": [
    "utils.map_city_tier()\n",
    "\n",
    "print(\"map_city_tier() executed successfully. Check the database for the 'city_tier_mapped_test_case' table.\")"
   ]
  },
  {
   "cell_type": "code",
   "execution_count": 6,
   "id": "fa872298-a0e0-4ab4-bd6a-08bc9ddb647a",
   "metadata": {},
   "outputs": [
    {
     "name": "stdout",
     "output_type": "stream",
     "text": [
      "Categorical variables mapped and saved to 'categorical_variables_mapped_test_case'.\n"
     ]
    }
   ],
   "source": [
    "# Step 4: Map categorical variables\n",
    "utils.map_categorical_vars()"
   ]
  },
  {
   "cell_type": "code",
   "execution_count": 7,
   "id": "14c9569e-d3ba-4f38-8e61-1dafc9391495",
   "metadata": {},
   "outputs": [
    {
     "name": "stdout",
     "output_type": "stream",
     "text": [
      "Interactions mapping applied and saved to 'interactions_mapped_test_case'.\n"
     ]
    }
   ],
   "source": [
    "# Step 5: Perform interactions mapping\n",
    "utils.interactions_mapping()"
   ]
  },
  {
   "cell_type": "code",
   "execution_count": null,
   "id": "53ae4747-6c81-4996-a91e-cde27150aaf2",
   "metadata": {},
   "outputs": [],
   "source": []
  }
 ],
 "metadata": {
  "kernelspec": {
   "display_name": "Python 3 (ipykernel)",
   "language": "python",
   "name": "python3"
  },
  "language_info": {
   "codemirror_mode": {
    "name": "ipython",
    "version": 3
   },
   "file_extension": ".py",
   "mimetype": "text/x-python",
   "name": "python",
   "nbconvert_exporter": "python",
   "pygments_lexer": "ipython3",
   "version": "3.8.12"
  }
 },
 "nbformat": 4,
 "nbformat_minor": 5
}
